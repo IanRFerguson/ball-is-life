{
 "cells": [
  {
   "cell_type": "markdown",
   "metadata": {},
   "source": [
    "**Goal**: Use PCA and K-Means Clustering to group players by characteristic / playing style, rather than position"
   ]
  },
  {
   "cell_type": "code",
   "execution_count": null,
   "metadata": {},
   "outputs": [],
   "source": [
    "# Imports\n",
    "import pandas as pd\n",
    "import numpy as np\n",
    "import matplotlib.pyplot as plt\n",
    "import seaborn as sns\n",
    "\n",
    "import warnings\n",
    "warnings.filterwarnings(\"ignore\")\n",
    "\n",
    "import os"
   ]
  },
  {
   "cell_type": "code",
   "execution_count": null,
   "metadata": {},
   "outputs": [],
   "source": [
    "here = os.getcwd()\n",
    "os.chdir(\"..\")\n",
    "os.chdir(\"00_Stat_Compiler\")\n",
    "nba = pd.read_csv(\"NBA_Player_Statistics.csv\")"
   ]
  },
  {
   "cell_type": "markdown",
   "metadata": {},
   "source": [
    "## Data Cleaning\n",
    "---------------------"
   ]
  },
  {
   "cell_type": "code",
   "execution_count": null,
   "metadata": {},
   "outputs": [],
   "source": [
    "plt.figure(figsize=(15,8))\n",
    "sns.heatmap(nba.isnull(), cmap=\"viridis\")\n",
    "plt.show()"
   ]
  },
  {
   "cell_type": "code",
   "execution_count": null,
   "metadata": {},
   "outputs": [],
   "source": [
    "print(\"VAR \\t\\tMissing \\t\\tPercentage\")\n",
    "print(\"--- \\t\\t--- \\t\\t\\t---\")\n",
    "badGuys = []\n",
    "\n",
    "for k in nba.columns:\n",
    "    \n",
    "    if (nba[k].isnull().sum()) != 0:\n",
    "        \n",
    "        badGuys.append(k)\n",
    "        missing = nba[k].isnull().sum()\n",
    "        print(k + \"\\t\\t\" + str(missing) + \"\\t\\t\\t\" + str(round(missing / len(nba[k]), 3)))\n",
    "        \n",
    "    try:\n",
    "        nba[k] = pd.to_numeric(nba[k])\n",
    "        \n",
    "    except:\n",
    "        continue"
   ]
  },
  {
   "cell_type": "code",
   "execution_count": null,
   "metadata": {},
   "outputs": [],
   "source": [
    "for k in badGuys:\n",
    "    \n",
    "    if k in [\"3P%\", \"FT%\"]:\n",
    "        \n",
    "        nba.drop(k, axis=1, inplace=True)\n",
    "\n",
    "for k in nba.columns:\n",
    "    \n",
    "    nba[k].fillna(nba[k].mean())"
   ]
  },
  {
   "cell_type": "code",
   "execution_count": null,
   "metadata": {},
   "outputs": [],
   "source": [
    "nba.drop([\"Player\", \"Pos\", \"Tm\"], axis=1, inplace=True)"
   ]
  },
  {
   "cell_type": "code",
   "execution_count": null,
   "metadata": {},
   "outputs": [],
   "source": [
    "for k in nba.columns:\n",
    "    \n",
    "    print(k + \"\\t\\t\" + str(nba[k].isnull().sum()))"
   ]
  },
  {
   "cell_type": "markdown",
   "metadata": {},
   "source": [
    "## Dimensionality Reduction\n",
    "---------------"
   ]
  },
  {
   "cell_type": "code",
   "execution_count": null,
   "metadata": {},
   "outputs": [],
   "source": [
    "from sklearn.decomposition import PCA"
   ]
  },
  {
   "cell_type": "code",
   "execution_count": null,
   "metadata": {},
   "outputs": [],
   "source": [
    "pca = PCA(n_components=2)\n",
    "\n",
    "smallBall = pca.fit_transform(nba)"
   ]
  },
  {
   "cell_type": "code",
   "execution_count": null,
   "metadata": {},
   "outputs": [],
   "source": []
  }
 ],
 "metadata": {
  "kernelspec": {
   "display_name": "Python 3",
   "language": "python",
   "name": "python3"
  },
  "language_info": {
   "codemirror_mode": {
    "name": "ipython",
    "version": 3
   },
   "file_extension": ".py",
   "mimetype": "text/x-python",
   "name": "python",
   "nbconvert_exporter": "python",
   "pygments_lexer": "ipython3",
   "version": "3.6.0"
  }
 },
 "nbformat": 4,
 "nbformat_minor": 2
}
